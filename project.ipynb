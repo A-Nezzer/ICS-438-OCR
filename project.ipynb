{
  "cells": [
    {
      "cell_type": "code",
      "execution_count": null,
      "metadata": {
        "id": "1SR7_UDYpWll"
      },
      "outputs": [],
      "source": [
        "!pip install faiss-cpu\n",
        "!pip install transformers\n",
        "!pip install torch\n",
        "!pip install langchain\n",
        "!pip install openai"
      ]
    },
    {
      "cell_type": "code",
      "execution_count": 2,
      "metadata": {
        "id": "ayZJuelGsZNL"
      },
      "outputs": [],
      "source": [
        "import os\n",
        "import sys\n",
        "import numpy as np\n",
        "import json"
      ]
    },
    {
      "cell_type": "code",
      "execution_count": 4,
      "metadata": {
        "id": "lF5Chcecno9U"
      },
      "outputs": [],
      "source": [
        "import train_categories\n",
        "import classify\n",
        "from transformer_model import TransformerModel\n",
        "from vector_index import VectorIndex\n",
        "import parse_receipts\n",
        "\n",
        "openai_key = \"\""
      ]
    },
    {
      "cell_type": "code",
      "execution_count": 5,
      "metadata": {
        "id": "M62McVywn4uM"
      },
      "outputs": [],
      "source": [
        "model = TransformerModel()\n",
        "\n",
        "index = train_categories.train(model)"
      ]
    },
    {
      "cell_type": "code",
      "execution_count": null,
      "metadata": {
        "id": "xGdCQJa-s07Q"
      },
      "outputs": [],
      "source": [
        "parse_receipts.parse_receipts(openai_key)"
      ]
    },
    {
      "attachments": {},
      "cell_type": "markdown",
      "metadata": {
        "id": "1DaNg_-o5RyX"
      },
      "source": []
    },
    {
      "cell_type": "code",
      "execution_count": 8,
      "metadata": {
        "id": "jWpd-TwuwnqF"
      },
      "outputs": [],
      "source": [
        "classify.classify_all_receipts(model, index)"
      ]
    },
    {
      "cell_type": "code",
      "execution_count": null,
      "metadata": {
        "id": "KsrW-Rqky37s"
      },
      "outputs": [],
      "source": []
    }
  ],
  "metadata": {
    "colab": {
      "provenance": []
    },
    "kernelspec": {
      "display_name": "Python 3",
      "name": "python3"
    },
    "language_info": {
      "name": "python"
    }
  },
  "nbformat": 4,
  "nbformat_minor": 0
}
