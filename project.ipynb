{
  "nbformat": 4,
  "nbformat_minor": 0,
  "metadata": {
    "colab": {
      "provenance": []
    },
    "kernelspec": {
      "name": "python3",
      "display_name": "Python 3"
    },
    "language_info": {
      "name": "python"
    }
  },
  "cells": [
    {
      "cell_type": "code",
      "source": [
        "!pip install faiss-cpu\n",
        "!pip install transformers\n",
        "!pip install torch\n",
        "!pip install langchain\n",
        "!pip install openai"
      ],
      "metadata": {
        "id": "1SR7_UDYpWll"
      },
      "execution_count": null,
      "outputs": []
    },
    {
      "cell_type": "code",
      "source": [
        "import os\n",
        "import sys\n",
        "import numpy as np\n",
        "import json"
      ],
      "metadata": {
        "id": "ayZJuelGsZNL"
      },
      "execution_count": 2,
      "outputs": []
    },
    {
      "cell_type": "code",
      "source": [
        "import train_categories\n",
        "import classify\n",
        "from transformer_model import TransformerModel\n",
        "from vector_index import VectorIndex\n",
        "import parse_receipts\n",
        "\n",
        "openai_key = \"\""
      ],
      "metadata": {
        "id": "lF5Chcecno9U"
      },
      "execution_count": 4,
      "outputs": []
    },
    {
      "cell_type": "code",
      "source": [
        "model = TransformerModel()\n",
        "\n",
        "index = train_categories.train(model)"
      ],
      "metadata": {
        "id": "M62McVywn4uM"
      },
      "execution_count": 5,
      "outputs": []
    },
    {
      "cell_type": "code",
      "source": [
        "query_embedding = model.embedding(\"cleanser\")\n",
        "query_embedding_2d = np.array([query_embedding])"
      ],
      "metadata": {
        "id": "kTv1skLHrQCL"
      },
      "execution_count": 6,
      "outputs": []
    },
    {
      "cell_type": "code",
      "source": [
        "index.search(query_embedding_2d)"
      ],
      "metadata": {
        "colab": {
          "base_uri": "https://localhost:8080/"
        },
        "id": "9-dCrVUDsx3V",
        "outputId": "d0e6fd4d-8568-4bf6-b485-e2580c7032cc"
      },
      "execution_count": 7,
      "outputs": [
        {
          "output_type": "execute_result",
          "data": {
            "text/plain": [
              "['restaurant']"
            ]
          },
          "metadata": {},
          "execution_count": 7
        }
      ]
    },
    {
      "cell_type": "code",
      "source": [
        "parse_receipts.parse_receipts(openai_key)"
      ],
      "metadata": {
        "id": "xGdCQJa-s07Q"
      },
      "execution_count": null,
      "outputs": []
    },
    {
      "cell_type": "markdown",
      "source": [],
      "metadata": {
        "id": "1DaNg_-o5RyX"
      }
    },
    {
      "cell_type": "code",
      "source": [
        "classify.classify_all_receipts(model, index)"
      ],
      "metadata": {
        "id": "jWpd-TwuwnqF"
      },
      "execution_count": 8,
      "outputs": []
    },
    {
      "cell_type": "code",
      "source": [],
      "metadata": {
        "id": "KsrW-Rqky37s"
      },
      "execution_count": null,
      "outputs": []
    }
  ]
}